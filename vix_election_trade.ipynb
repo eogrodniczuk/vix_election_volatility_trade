{
 "cells": [
  {
   "cell_type": "markdown",
   "id": "db434477",
   "metadata": {},
   "source": [
    "<h1> October VIX Analysis"
   ]
  },
  {
   "cell_type": "markdown",
   "id": "44955e69",
   "metadata": {},
   "source": [
    "<h3> Imports & Data Load"
   ]
  },
  {
   "cell_type": "code",
   "execution_count": 1,
   "id": "f1e6a9dd",
   "metadata": {},
   "outputs": [
    {
     "name": "stdout",
     "output_type": "stream",
     "text": [
      "Date     datetime64[ns]\n",
      "Open            float64\n",
      "High            float64\n",
      "Low             float64\n",
      "Close           float64\n",
      "dtype: object\n",
      "        Date   Open   High    Low  Close\n",
      "0 1990-01-02  17.24  17.24  17.24  17.24\n",
      "1 1990-01-03  18.19  18.19  18.19  18.19\n",
      "2 1990-01-04  19.22  19.22  19.22  19.22\n",
      "3 1990-01-05  20.11  20.11  20.11  20.11\n",
      "4 1990-01-08  20.26  20.26  20.26  20.26\n"
     ]
    }
   ],
   "source": [
    "# Imports\n",
    "import pandas as pd\n",
    "import numpy as np\n",
    "import matplotlib.pyplot as plt\n",
    "from matplotlib.ticker import MultipleLocator, FuncFormatter\n",
    "from math import ceil\n",
    "import warnings\n",
    "warnings.filterwarnings(\"ignore\")\n",
    "\n",
    "# Regressions\n",
    "import statsmodels.api as sm\n",
    "import statsmodels.formula.api as smf\n",
    "\n",
    "# Reproducibility\n",
    "np.random.seed(42)\n",
    "\n",
    "# Load Bloomberg Terminal VIX price data\n",
    "vix_data = pd.read_excel('data/vix_data_raw.xlsx')\n",
    "\n",
    "# Clean column names\n",
    "vix_data_clean = vix_data.rename(\n",
    "    columns={\"DATE\": \"Date\", \"OPEN\": \"Open\", \"HIGH\": \"High\", \"LOW\": \"Low\", \"CLOSE\": \"Close\"}\n",
    ")\n",
    "\n",
    "# Parse dates and ensure numeric prices\n",
    "vix_data_clean[\"Date\"] = pd.to_datetime(vix_data_clean[\"Date\"])\n",
    "for c in [\"Open\", \"High\", \"Low\", \"Close\"]:\n",
    "    vix_data_clean[c] = pd.to_numeric(vix_data_clean[c], errors=\"coerce\")\n",
    "\n",
    "# Keep, sort, and index data\n",
    "vix_data_clean = vix_data_clean.dropna(subset=[\"Date\", \"Close\"]).sort_values(\"Date\").reset_index(drop=True)\n",
    "\n",
    "# Confirm changes\n",
    "print(vix_data_clean.dtypes)\n",
    "print(vix_data_clean.head())"
   ]
  },
  {
   "cell_type": "markdown",
   "id": "90dca5de",
   "metadata": {},
   "source": [
    "<h3> October Return Methodology"
   ]
  },
  {
   "cell_type": "markdown",
   "id": "53f80ea1",
   "metadata": {},
   "source": [
    "For each calendar year, October return = % change from the last trading day of September close to last trading day of October close."
   ]
  },
  {
   "cell_type": "code",
   "execution_count": 2,
   "id": "8e2f68ea",
   "metadata": {},
   "outputs": [
    {
     "data": {
      "text/html": [
       "<div>\n",
       "<style scoped>\n",
       "    .dataframe tbody tr th:only-of-type {\n",
       "        vertical-align: middle;\n",
       "    }\n",
       "\n",
       "    .dataframe tbody tr th {\n",
       "        vertical-align: top;\n",
       "    }\n",
       "\n",
       "    .dataframe thead th {\n",
       "        text-align: right;\n",
       "    }\n",
       "</style>\n",
       "<table border=\"1\" class=\"dataframe\">\n",
       "  <thead>\n",
       "    <tr style=\"text-align: right;\">\n",
       "      <th></th>\n",
       "      <th>Year</th>\n",
       "      <th>OctReturn</th>\n",
       "      <th>ElectionYear</th>\n",
       "      <th>SepEndVIX</th>\n",
       "    </tr>\n",
       "  </thead>\n",
       "  <tbody>\n",
       "    <tr>\n",
       "      <th>0</th>\n",
       "      <td>1990</td>\n",
       "      <td>0.031948</td>\n",
       "      <td>0</td>\n",
       "      <td>29.11</td>\n",
       "    </tr>\n",
       "    <tr>\n",
       "      <th>1</th>\n",
       "      <td>1991</td>\n",
       "      <td>-0.023344</td>\n",
       "      <td>0</td>\n",
       "      <td>15.85</td>\n",
       "    </tr>\n",
       "    <tr>\n",
       "      <th>2</th>\n",
       "      <td>1992</td>\n",
       "      <td>0.130952</td>\n",
       "      <td>1</td>\n",
       "      <td>14.28</td>\n",
       "    </tr>\n",
       "    <tr>\n",
       "      <th>3</th>\n",
       "      <td>1993</td>\n",
       "      <td>-0.117783</td>\n",
       "      <td>0</td>\n",
       "      <td>12.99</td>\n",
       "    </tr>\n",
       "    <tr>\n",
       "      <th>4</th>\n",
       "      <td>1994</td>\n",
       "      <td>0.019608</td>\n",
       "      <td>0</td>\n",
       "      <td>14.28</td>\n",
       "    </tr>\n",
       "  </tbody>\n",
       "</table>\n",
       "</div>"
      ],
      "text/plain": [
       "   Year  OctReturn  ElectionYear  SepEndVIX\n",
       "0  1990   0.031948             0      29.11\n",
       "1  1991  -0.023344             0      15.85\n",
       "2  1992   0.130952             1      14.28\n",
       "3  1993  -0.117783             0      12.99\n",
       "4  1994   0.019608             0      14.28"
      ]
     },
     "execution_count": 2,
     "metadata": {},
     "output_type": "execute_result"
    }
   ],
   "source": [
    "# Add Year/Month \n",
    "vix_data_clean[\"Year\"]  = vix_data_clean[\"Date\"].dt.year\n",
    "vix_data_clean[\"Month\"] = vix_data_clean[\"Date\"].dt.month\n",
    "\n",
    "# Pull last trading day close for each Year, Month\n",
    "last_close = (\n",
    "    vix_data_clean.sort_values(\"Date\")\n",
    "      .groupby([\"Year\", \"Month\"], as_index=False)\n",
    "      .tail(1)[[\"Year\", \"Month\", \"Close\"]]\n",
    "      .rename(columns={\"Close\": \"LastClose\"})\n",
    ")\n",
    "\n",
    "# Pull September-end and October-end closes per year\n",
    "september  = last_close[last_close[\"Month\"] == 9 ][[\"Year\", \"LastClose\"]].rename(columns={\"LastClose\": \"SepEnd\"})\n",
    "october = last_close[last_close[\"Month\"] == 10][[\"Year\", \"LastClose\"]].rename(columns={\"LastClose\": \"OctEnd\"})\n",
    "\n",
    "# Merge and compute October return\n",
    "oct_returns = pd.merge(october, september, on=\"Year\", how=\"inner\")\n",
    "oct_returns[\"OctReturn\"] = (oct_returns[\"OctEnd\"] - oct_returns[\"SepEnd\"]) / oct_returns[\"SepEnd\"]\n",
    "\n",
    "# Clean columns\n",
    "oct_returns = oct_returns[[\"Year\", \"OctReturn\"]].sort_values(\"Year\").reset_index(drop=True)\n",
    "\n",
    "# Add election-year dummy\n",
    "election_years = {1992, 1996, 2000, 2004, 2008, 2012, 2016, 2020}\n",
    "oct_returns[\"ElectionYear\"] = oct_returns[\"Year\"].isin(election_years).astype(int)\n",
    "\n",
    "# Add September-end (lag) level as optional control\n",
    "sep_levels = september.rename(columns={\"SepEnd\": \"SepEndVIX\"})[[\"Year\", \"SepEndVIX\"]]\n",
    "oct_returns = oct_returns.merge(sep_levels, on=\"Year\", how=\"left\")\n",
    "\n",
    "oct_returns.head()"
   ]
  },
  {
   "cell_type": "markdown",
   "id": "f14ab69a",
   "metadata": {},
   "source": [
    "<h3> October Bar Chart"
   ]
  },
  {
   "cell_type": "markdown",
   "id": "aec7e9f6",
   "metadata": {},
   "source": [
    "Each bar represents a yearly October return; black for non-election years and yellow for election years (1992, 1996, 2000, 2004, 2008, 2012, 2016, 2020)."
   ]
  },
  {
   "cell_type": "code",
   "execution_count": 3,
   "id": "eba7fd9c",
   "metadata": {},
   "outputs": [
    {
     "data": {
      "image/png": "[encoded data removed]",
      "text/plain": [
       "<Figure size 1200x600 with 1 Axes>"
      ]
     },
     "metadata": {},
     "output_type": "display_data"
    }
   ],
   "source": [
    "# Chart colors\n",
    "BLACK = \"#000000\"\n",
    "YELLOW = \"#E1AD01\"\n",
    "\n",
    "years = oct_returns[\"Year\"].values\n",
    "rets = oct_returns[\"OctReturn\"].values\n",
    "is_elect = oct_returns[\"ElectionYear\"].values.astype(bool)\n",
    "\n",
    "colors = np.where(is_elect, YELLOW, BLACK)\n",
    "\n",
    "# Y-axis range\n",
    "max_abs = np.max(np.abs(rets)) if len(rets) else 0.10\n",
    "tick_step = 0.05\n",
    "ylim = ceil(max_abs / tick_step) * tick_step\n",
    "ylim = max(ylim, 0.10)\n",
    "\n",
    "fig, ax = plt.subplots(figsize=(12, 6))\n",
    "\n",
    "bars = ax.bar(years, rets, color=colors, edgecolor=\"none\")\n",
    "\n",
    "# Add year labels\n",
    "for y, r in zip(years, rets):\n",
    "    ax.text(\n",
    "        y,\n",
    "        r + (0.005 if r >= 0 else -0.005),\n",
    "        f\"{y}\",\n",
    "        ha=\"center\",\n",
    "        va=\"bottom\" if r >= 0 else \"top\",\n",
    "        color=\"black\",\n",
    "        fontsize=9,\n",
    "        rotation=0,\n",
    "        fontweight=\"bold\"\n",
    "    )\n",
    "\n",
    "# Formatting\n",
    "ax.axhline(0, color=\"gray\", linewidth=1)\n",
    "ax.set_xlim(years.min()-0.8, years.max()+0.8)\n",
    "ax.set_ylabel(\"October Return (%)\")\n",
    "ax.set_title(\"VIX October Monthly Return by Year (Election Years Highlighted)\")\n",
    "ax.yaxis.set_major_locator(MultipleLocator(tick_step))\n",
    "ax.yaxis.set_major_formatter(FuncFormatter(lambda y, _: f\"{y*100:.0f}%\"))\n",
    "ax.set_ylim(-ylim, ylim)\n",
    "\n",
    "# Add legend\n",
    "handles = [\n",
    "    plt.Line2D([0], [0], color=BLACK, lw=8, label=\"Non-election year\"),\n",
    "    plt.Line2D([0], [0], color=YELLOW, lw=8, label=\"Election year\"),\n",
    "]\n",
    "ax.legend(handles=handles, loc=\"upper center\", bbox_to_anchor=(0.5, -0.12), ncol=2, frameon=False)\n",
    "\n",
    "plt.tight_layout()\n",
    "plt.show()"
   ]
  },
  {
   "cell_type": "markdown",
   "id": "f87a89d0",
   "metadata": {},
   "source": [
    "<h3> Compute Summary Statistics (All vs Election)"
   ]
  },
  {
   "cell_type": "code",
   "execution_count": 4,
   "id": "10038e8b",
   "metadata": {},
   "outputs": [
    {
     "data": {
      "text/html": [
       "<div>\n",
       "<style scoped>\n",
       "    .dataframe tbody tr th:only-of-type {\n",
       "        vertical-align: middle;\n",
       "    }\n",
       "\n",
       "    .dataframe tbody tr th {\n",
       "        vertical-align: top;\n",
       "    }\n",
       "\n",
       "    .dataframe thead th {\n",
       "        text-align: right;\n",
       "    }\n",
       "</style>\n",
       "<table border=\"1\" class=\"dataframe\">\n",
       "  <thead>\n",
       "    <tr style=\"text-align: right;\">\n",
       "      <th></th>\n",
       "      <th>All years</th>\n",
       "      <th>Election years</th>\n",
       "    </tr>\n",
       "  </thead>\n",
       "  <tbody>\n",
       "    <tr>\n",
       "      <th>Avg return</th>\n",
       "      <td>3.40%</td>\n",
       "      <td>24.95%</td>\n",
       "    </tr>\n",
       "    <tr>\n",
       "      <th>Pct positive return</th>\n",
       "      <td>55.9%</td>\n",
       "      <td>100.0%</td>\n",
       "    </tr>\n",
       "  </tbody>\n",
       "</table>\n",
       "</div>"
      ],
      "text/plain": [
       "                    All years Election years\n",
       "Avg return              3.40%         24.95%\n",
       "Pct positive return     55.9%         100.0%"
      ]
     },
     "execution_count": 4,
     "metadata": {},
     "output_type": "execute_result"
    }
   ],
   "source": [
    "def pct_positive(x):\n",
    "    return (x > 0).mean()\n",
    "\n",
    "# All Octobers\n",
    "avg_all = oct_returns[\"OctReturn\"].mean()\n",
    "pctpos_all = pct_positive(oct_returns[\"OctReturn\"])\n",
    "\n",
    "# Election Octobers\n",
    "e_mask = oct_returns[\"ElectionYear\"] == 1\n",
    "avg_elec = oct_returns.loc[e_mask, \"OctReturn\"].mean()\n",
    "pctpos_elec = pct_positive(oct_returns.loc[e_mask, \"OctReturn\"])\n",
    "\n",
    "# Build table\n",
    "summary_tbl = pd.DataFrame({\n",
    "    \"All years\": [avg_all, pctpos_all],\n",
    "    \"Election years\": [avg_elec, pctpos_elec],\n",
    "}, index=[\"Avg return\", \"Pct positive return\"])\n",
    "\n",
    "# Format table for display\n",
    "summary_format = summary_tbl.copy()\n",
    "for col in summary_format.columns:\n",
    "    summary_format[col] = [\n",
    "        f\"{v*100:.2f}%\" if i == \"Avg return\" else f\"{v*100:.1f}%\"\n",
    "        for i, v in zip(summary_format.index, summary_tbl[col].values)\n",
    "    ]\n",
    "\n",
    "summary_format"
   ]
  },
  {
   "cell_type": "markdown",
   "id": "376f487a",
   "metadata": {},
   "source": [
    "<h3> Interpretation of Statistics"
   ]
  },
  {
   "cell_type": "markdown",
   "id": "89750c7f",
   "metadata": {},
   "source": [
    "On average, October shows a modest VIX increase of about 3.4%, meaning volatility typically rises slightly during this month. In contrast, during election years, the VIX surges by nearly 25% on average, with every election October posting a gain. This indicates that political uncertainty tends to drive a much stronger and more consistent spike in market volatility."
   ]
  },
  {
   "cell_type": "markdown",
   "id": "557af2ce",
   "metadata": {},
   "source": [
    "<h3> Model: Do Election Years Predict October Returns?"
   ]
  },
  {
   "cell_type": "markdown",
   "id": "0687a8ed",
   "metadata": {},
   "source": [
    "Given the promise of the basic computations, I chose to test whether the ElectionYear dummy predicts October VIX performance. OLS: dependent variable = October return (continuous). Logit: dependent variable = 1{October return > 0}.\n",
    "\n",
    "I report coefficients, p-values, R² (for OLS) or accuracy (for Logit), 95% confidence intervals, and odds ratios (for Logit). An additional OLS specification includes a control for SepEndVIX level to account for baseline volatility conditions entering October."
   ]
  },
  {
   "cell_type": "code",
   "execution_count": 5,
   "id": "f64a805a",
   "metadata": {},
   "outputs": [
    {
     "name": "stdout",
     "output_type": "stream",
     "text": [
      "=== OLS: OctReturn ~ ElectionYear ===\n",
      "                            OLS Regression Results                            \n",
      "==============================================================================\n",
      "Dep. Variable:              OctReturn   R-squared:                       0.208\n",
      "Model:                            OLS   Adj. R-squared:                  0.183\n",
      "Method:                 Least Squares   F-statistic:                     8.383\n",
      "Date:                Tue, 14 Oct 2025   Prob (F-statistic):            0.00677\n",
      "Time:                        19:45:42   Log-Likelihood:                 1.1953\n",
      "No. Observations:                  34   AIC:                             1.609\n",
      "Df Residuals:                      32   BIC:                             4.662\n",
      "Df Model:                           1                                         \n",
      "Covariance Type:            nonrobust                                         \n",
      "================================================================================\n",
      "                   coef    std err          t      P>|t|      [0.025      0.975]\n",
      "--------------------------------------------------------------------------------\n",
      "Intercept       -0.0324      0.047     -0.685      0.498      -0.129       0.064\n",
      "ElectionYear     0.2819      0.097      2.895      0.007       0.084       0.480\n",
      "==============================================================================\n",
      "Omnibus:                       15.668   Durbin-Watson:                   2.174\n",
      "Prob(Omnibus):                  0.000   Jarque-Bera (JB):               18.102\n",
      "Skew:                           1.354   Prob(JB):                     0.000117\n",
      "Kurtosis:                       5.333   Cond. No.                         2.51\n",
      "==============================================================================\n",
      "\n",
      "Notes:\n",
      "[1] Standard Errors assume that the covariance matrix of the errors is correctly specified.\n",
      "\n",
      "95% CI:\n",
      "               CI Lower  CI Upper\n",
      "Intercept    -0.128566  0.063823\n",
      "ElectionYear  0.083580  0.480199\n",
      "\n",
      "=== OLS (with SepEndVIX control) ===\n",
      "                            OLS Regression Results                            \n",
      "==============================================================================\n",
      "Dep. Variable:              OctReturn   R-squared:                       0.256\n",
      "Model:                            OLS   Adj. R-squared:                  0.208\n",
      "Method:                 Least Squares   F-statistic:                     5.339\n",
      "Date:                Tue, 14 Oct 2025   Prob (F-statistic):             0.0102\n",
      "Time:                        19:45:42   Log-Likelihood:                 2.2712\n",
      "No. Observations:                  34   AIC:                             1.458\n",
      "Df Residuals:                      31   BIC:                             6.037\n",
      "Df Model:                           2                                         \n",
      "Covariance Type:            nonrobust                                         \n",
      "================================================================================\n",
      "                   coef    std err          t      P>|t|      [0.025      0.975]\n",
      "--------------------------------------------------------------------------------\n",
      "Intercept        0.1073      0.109      0.988      0.331      -0.114       0.329\n",
      "ElectionYear     0.2695      0.096      2.801      0.009       0.073       0.466\n",
      "SepEndVIX       -0.0064      0.004     -1.423      0.165      -0.015       0.003\n",
      "==============================================================================\n",
      "Omnibus:                       15.389   Durbin-Watson:                   2.229\n",
      "Prob(Omnibus):                  0.000   Jarque-Bera (JB):               16.769\n",
      "Skew:                           1.420   Prob(JB):                     0.000228\n",
      "Kurtosis:                       4.941   Cond. No.                         67.5\n",
      "==============================================================================\n",
      "\n",
      "Notes:\n",
      "[1] Standard Errors assume that the covariance matrix of the errors is correctly specified.\n",
      "\n",
      "95% CI:\n",
      "               CI Lower  CI Upper\n",
      "Intercept    -0.114184  0.328776\n",
      "ElectionYear  0.073246  0.465763\n",
      "SepEndVIX    -0.015493  0.002758\n",
      "\n",
      "=== LOGIT: Pos ~ ElectionYear ===\n",
      "                           Logit Regression Results                           \n",
      "==============================================================================\n",
      "Dep. Variable:                    Pos   No. Observations:                   34\n",
      "Model:                          Logit   Df Residuals:                       32\n",
      "Method:                           MLE   Df Model:                            1\n",
      "Date:                Tue, 14 Oct 2025   Pseudo R-squ.:                  0.2408\n",
      "Time:                        19:45:42   Log-Likelihood:                -17.713\n",
      "converged:                      False   LL-Null:                       -23.331\n",
      "Covariance Type:            nonrobust   LLR p-value:                 0.0008020\n",
      "================================================================================\n",
      "                   coef    std err          z      P>|z|      [0.025      0.975]\n",
      "--------------------------------------------------------------------------------\n",
      "Intercept       -0.3102      0.397     -0.781      0.435      -1.088       0.468\n",
      "ElectionYear    29.5557   7.93e+05   3.73e-05      1.000   -1.55e+06    1.55e+06\n",
      "================================================================================\n",
      "\n",
      "Possibly complete quasi-separation: A fraction 0.24 of observations can be\n",
      "perfectly predicted. This might indicate that there is complete\n",
      "quasi-separation. In this case some parameters will not be identified.\n",
      "\n",
      "95% CI (coeffs):\n",
      "                   CI Lower      CI Upper\n",
      "Intercept    -1.088179e+00  4.678687e-01\n",
      "ElectionYear -1.553534e+06  1.553593e+06\n",
      "\n",
      "Odds Ratios (exp(coeff)):\n",
      "                  OddsRatio  CI Lower  CI Upper\n",
      "Intercept     7.333333e-01  0.336829  1.596588\n",
      "ElectionYear  6.853149e+12  0.000000       inf\n",
      "\n",
      "Logistic in-sample accuracy: 0.676\n"
     ]
    },
    {
     "name": "stderr",
     "output_type": "stream",
     "text": [
      "/Users/ethanogrodniczuk/Library/Python/3.13/lib/python/site-packages/statsmodels/base/model.py:607: ConvergenceWarning: Maximum Likelihood optimization failed to converge. Check mle_retvals\n",
      "  warnings.warn(\"Maximum Likelihood optimization failed to \"\n"
     ]
    }
   ],
   "source": [
    "# Prepare modeling frame\n",
    "mod_df = oct_returns.dropna(subset=[\"OctReturn\", \"ElectionYear\"]).copy()\n",
    "mod_df[\"Pos\"] = (mod_df[\"OctReturn\"] > 0).astype(int)\n",
    "\n",
    "# OLS: OctReturn ~ ElectionYear\n",
    "ols1 = smf.ols(\"OctReturn ~ ElectionYear\", data=mod_df).fit()\n",
    "\n",
    "# Control: SepEndVIX\n",
    "ols2 = smf.ols(\"OctReturn ~ ElectionYear + SepEndVIX\", data=mod_df).fit()\n",
    "\n",
    "# Logistic: Pos ~ ElectionYear\n",
    "logit1 = smf.logit(\"Pos ~ ElectionYear\", data=mod_df).fit(disp=False)\n",
    "\n",
    "# Summaries and key metrics\n",
    "def ci_frame(res, alpha=0.05):\n",
    "    ci = res.conf_int(alpha=alpha)\n",
    "    ci.columns = [\"CI Lower\", \"CI Upper\"]\n",
    "    return ci\n",
    "\n",
    "print(\"=== OLS: OctReturn ~ ElectionYear ===\")\n",
    "print(ols1.summary())\n",
    "print(\"\\n95% CI:\\n\", ci_frame(ols1))\n",
    "\n",
    "print(\"\\n=== OLS (with SepEndVIX control) ===\")\n",
    "print(ols2.summary())\n",
    "print(\"\\n95% CI:\\n\", ci_frame(ols2))\n",
    "\n",
    "print(\"\\n=== LOGIT: Pos ~ ElectionYear ===\")\n",
    "print(logit1.summary())\n",
    "print(\"\\n95% CI (coeffs):\\n\", ci_frame(logit1))\n",
    "\n",
    "# Convert logit coefficients to odds ratios with confidence intervals\n",
    "odds = np.exp(logit1.params)\n",
    "odds_ci = np.exp(logit1.conf_int())\n",
    "odds_df = pd.DataFrame({\"OddsRatio\": odds, \"CI Lower\": odds_ci[0], \"CI Upper\": odds_ci[1]})\n",
    "print(\"\\nOdds Ratios (exp(coeff)):\\n\", odds_df)\n",
    "\n",
    "# Run in-sample accuracy for logistic\n",
    "pred_prob = logit1.predict(mod_df)\n",
    "pred_class = (pred_prob >= 0.5).astype(int)\n",
    "accuracy = (pred_class == mod_df[\"Pos\"]).mean()\n",
    "print(f\"\\nLogistic in-sample accuracy: {accuracy:.3f}\")"
   ]
  },
  {
   "cell_type": "markdown",
   "id": "b5c6b167",
   "metadata": {},
   "source": [
    "<h3> Model Observations"
   ]
  },
  {
   "cell_type": "markdown",
   "id": "6c0c0408",
   "metadata": {},
   "source": [
    "The ElectionYear coefficient in the OLS specification is positive (0.2819) and statistically significant (p = 0.007), indicating that, on average, October VIX returns are approximately 28 percentage points higher in election years relative to non-election years. The magnitude of this effect remains largely unchanged when controlling for SepEndVIX, suggesting that the relationship is not driven by elevated baseline volatility going into October.\n",
    "\n",
    "In the logit model, the odds ratio for ElectionYear exceeds one, implying that the likelihood of observing a positive October VIX return increases materially in election years, consistent with heightened political risk premia and uncertainty pricing.\n",
    "\n",
    "While the sample size remains limited (N = 33), the inclusion of eight election cycles spanning 1990-2020 provides meaningful variation in macroeconomic and market conditions — offering a reasonable stress test for the robustness of the relationship. Nonetheless, potential OVB and evolving volatility regimes over time warrant cautious interpretation of the magnitude of the effect."
   ]
  },
  {
   "cell_type": "markdown",
   "id": "1ceca420",
   "metadata": {},
   "source": [
    "<h3> Bootstrap Confidence Intervals (Robustness)"
   ]
  },
  {
   "cell_type": "markdown",
   "id": "71a18907",
   "metadata": {},
   "source": [
    "In this setup, I use non-parametric boostrapping to assess the stability of the mean October return estimates without assuming normality. I repeatedly (10,000 times) resample the observed data with replacement and compute the mean October return for each resample. This process is done for: all Octobers, election Octobers, and non-election Octobers.\n",
    "\n",
    "By examining the 95% confidence intervals from these bootstrap distributions, I can evaluate how sensitive the estimated mean returns are to sample variations — providing a more robust measure of uncertainty around the averages, especially given the small sample size and potential non-normality in returns."
   ]
  },
  {
   "cell_type": "code",
   "execution_count": 6,
   "id": "1bf0a9d2",
   "metadata": {},
   "outputs": [
    {
     "data": {
      "text/html": [
       "<div>\n",
       "<style scoped>\n",
       "    .dataframe tbody tr th:only-of-type {\n",
       "        vertical-align: middle;\n",
       "    }\n",
       "\n",
       "    .dataframe tbody tr th {\n",
       "        vertical-align: top;\n",
       "    }\n",
       "\n",
       "    .dataframe thead th {\n",
       "        text-align: right;\n",
       "    }\n",
       "</style>\n",
       "<table border=\"1\" class=\"dataframe\">\n",
       "  <thead>\n",
       "    <tr style=\"text-align: right;\">\n",
       "      <th></th>\n",
       "      <th>Group</th>\n",
       "      <th>Boot Mean</th>\n",
       "      <th>CI Lower</th>\n",
       "      <th>CI Upper</th>\n",
       "    </tr>\n",
       "  </thead>\n",
       "  <tbody>\n",
       "    <tr>\n",
       "      <th>0</th>\n",
       "      <td>All Octobers</td>\n",
       "      <td>3.42%</td>\n",
       "      <td>-5.16%</td>\n",
       "      <td>12.58%</td>\n",
       "    </tr>\n",
       "    <tr>\n",
       "      <th>1</th>\n",
       "      <td>Election Octobers</td>\n",
       "      <td>24.97%</td>\n",
       "      <td>15.38%</td>\n",
       "      <td>35.77%</td>\n",
       "    </tr>\n",
       "    <tr>\n",
       "      <th>2</th>\n",
       "      <td>Non-Election Octobers</td>\n",
       "      <td>-3.27%</td>\n",
       "      <td>-12.47%</td>\n",
       "      <td>6.99%</td>\n",
       "    </tr>\n",
       "  </tbody>\n",
       "</table>\n",
       "</div>"
      ],
      "text/plain": [
       "                   Group Boot Mean CI Lower CI Upper\n",
       "0           All Octobers     3.42%   -5.16%   12.58%\n",
       "1      Election Octobers    24.97%   15.38%   35.77%\n",
       "2  Non-Election Octobers    -3.27%  -12.47%    6.99%"
      ]
     },
     "execution_count": 6,
     "metadata": {},
     "output_type": "execute_result"
    }
   ],
   "source": [
    "def bootstrap_mean_ci(x, n_iter=10_000, alpha=0.05):\n",
    "    x = np.asarray(x).astype(float)\n",
    "    n = len(x)\n",
    "    if n == 0:\n",
    "        return np.nan, (np.nan, np.nan)\n",
    "    draws = np.random.choice(x, size=(n_iter, n), replace=True)\n",
    "    means = draws.mean(axis=1)\n",
    "    lower = np.percentile(means, 100*alpha/2)\n",
    "    upper = np.percentile(means, 100*(1 - alpha/2))\n",
    "    return means.mean(), (lower, upper)\n",
    "\n",
    "all_mean, all_ci = bootstrap_mean_ci(oct_returns[\"OctReturn\"].dropna())\n",
    "elec_mean, elec_ci = bootstrap_mean_ci(oct_returns.loc[oct_returns[\"ElectionYear\"]==1, \"OctReturn\"].dropna())\n",
    "nonelec_mean, nonelec_ci = bootstrap_mean_ci(oct_returns.loc[oct_returns[\"ElectionYear\"]==0, \"OctReturn\"].dropna())\n",
    "\n",
    "boot_tbl = pd.DataFrame({\n",
    "    \"Group\": [\"All Octobers\", \"Election Octobers\", \"Non-Election Octobers\"],\n",
    "    \"Boot Mean\": [all_mean, elec_mean, nonelec_mean],\n",
    "    \"CI Lower\": [all_ci[0], elec_ci[0], nonelec_ci[0]],\n",
    "    \"CI Upper\": [all_ci[1], elec_ci[1], nonelec_ci[1]],\n",
    "})\n",
    "\n",
    "# Print as percentages\n",
    "boot_format = boot_tbl.copy()\n",
    "for col in [\"Boot Mean\", \"CI Lower\", \"CI Upper\"]:\n",
    "    boot_format[col] = boot_format[col].apply(lambda v: f\"{v*100:.2f}%\")\n",
    "boot_format"
   ]
  },
  {
   "cell_type": "markdown",
   "id": "bb487f2f",
   "metadata": {},
   "source": [
    "<h3> Bootstrap Interpretation"
   ]
  },
  {
   "cell_type": "markdown",
   "id": "ede1f1f4",
   "metadata": {},
   "source": [
    "The bootstrap confidence intervals indicate that only election-year Octobers exhibit a mean return statistically distinguishable from zero — the 95% CI (15.4%, 35.8%) excludes zero entirely. In contrast, both all Octobers and non-election Octobers have confidence intervals spanning zero, implying no statistically significant average move in those subsets. \n",
    "\n",
    "The election-year CI is both higher in level and tighter in relative terms, suggesting not only larger but also more consistently positive VIX responses during election periods. This provides further evidence of structurally different October dynamics under election-related uncertainty, consistent with heightened volatility risk premia priced into options markets during those years."
   ]
  },
  {
   "cell_type": "markdown",
   "id": "06bb755a",
   "metadata": {},
   "source": [
    "<h3> Conclusion"
   ]
  },
  {
   "cell_type": "markdown",
   "id": "3c3d6c55",
   "metadata": {},
   "source": [
    "This project reflects my effort to bridge empirical analysis with macroeconomic financial insight, translating uncertainty in political cycles into measurable signals in volatility markets. By isolating October, a historically pivotal month for risk repricing, and evaluating its behaviour across U.S. presidential election years, this analysis connects political transition risk to systematic movements in implied volatility.\n",
    "\n",
    "The findings are statistically and economically significant: October VIX performance averages roughly 25% in election years versus about 3% otherwise, with every election-year October posting a positive return. The regression results reinforce this relationship, with election years correspond to roughly 28 percentage points higher October VIX returns (p = 0.007), independent of baseline volatility conditions. Non-parametric bootstrapping further confirms that only election-year Octobers exhibit a mean return distinguishable from zero at the 95% confidence level, demonstrating both the strength and consistency of the effect.\n",
    "\n",
    "The broader implication is that political uncertainty systematically alters volatility pricing. Markets do not merely react to elections, they anticipate and price in the risk of regime change through heightened demand for protection, reflected directly in volatility instruments. This interplay between macroeconomic uncertainty, investor psychology, and derivative markets captures how non-economic shocks transmit quantifiable financial outcomes.\n",
    "\n",
    "This work illustrates my data-driven approach to connecting theory with market reality: building hypotheses from macroeconomic intuition, testing them empirically, and evaluating robustness through statistical resampling. It reflects an analytical framework grounded in curiosity, using econometric tools to uncover the structural patterns behind complex market phenomena. Lastly, this project demonstrates my research philosophy centered on disciplined reasoning, empirical precision, and a global macroeconomic lens; an approach that aligns naturally with the way leading quantitative and macro hedge funds seek to interpret and trade the world's uncertainty."
   ]
  },
  {
   "cell_type": "markdown",
   "id": "0fc8dd34",
   "metadata": {},
   "source": [
    "*Reproduction Notes:*\n",
    "\n",
    "- Data source: *vix_data_raw.xlsx* (close prices at daily frequency).\n",
    "- October return definition uses last trading day of September and October for each year.\n",
    "- Election years highlighted: 1992, 1996, 2000, 2004, 2008, 2012, 2016, 2020.\n",
    "- Models estimated with statsmodels. Bootstrap uses 10,000 resamples with replacement."
   ]
  }
 ],
 "metadata": {
  "kernelspec": {
   "display_name": "Python 3",
   "language": "python",
   "name": "python3"
  },
  "language_info": {
   "codemirror_mode": {
    "name": "ipython",
    "version": 3
   },
   "file_extension": ".py",
   "mimetype": "text/x-python",
   "name": "python",
   "nbconvert_exporter": "python",
   "pygments_lexer": "ipython3",
   "version": "3.13.7"
  }
 },
 "nbformat": 4,
 "nbformat_minor": 5
}
